{
 "cells": [
  {
   "cell_type": "code",
   "execution_count": 1,
   "id": "1f47d007",
   "metadata": {},
   "outputs": [],
   "source": [
    "# Import relevant modules\n",
    "import os\n",
    "import numpy as np\n",
    "import pandas as pd\n",
    "import matplotlib.pyplot as plt\n",
    "from matplotlib.colors import LogNorm\n",
    "import seaborn as sns\n",
    "from netCDF4 import Dataset\n",
    "from datetime import date, timedelta, datetime\n",
    "from calendar import isleap\n",
    "import math"
   ]
  },
  {
   "cell_type": "code",
   "execution_count": 34,
   "id": "71dcb706",
   "metadata": {},
   "outputs": [],
   "source": [
    "# Variable for file name\n",
    "file = 'co2_mbl_surface.txt'\n",
    "# Open file and read lines\n",
    "with open(file) as f:\n",
    "    data = f.readlines()"
   ]
  },
  {
   "cell_type": "code",
   "execution_count": 35,
   "id": "fbb8d94d",
   "metadata": {},
   "outputs": [
    {
     "name": "stdout",
     "output_type": "stream",
     "text": [
      "[-90.0, -71.80512766123321, -64.15806723683286, -58.21166938294838, -53.13010235415599, -48.590377890729144, -44.4270040008057, -40.541601873504526, -36.86989764584402, -33.36701296923175, -30.0, -26.743683950403007, -23.578178478201835, -20.487315114722662, -17.45760312372209, -14.477512185929923, -11.53695903281549, -8.626926558678639, -5.739170477266787, -2.8659839825988622, 0.0, 2.8659839825988622, 5.739170477266787, 8.626926558678639, 11.53695903281549, 14.477512185929923, 17.45760312372209, 20.487315114722662, 23.578178478201835, 26.743683950403007, 30.0, 33.36701296923175, 36.86989764584402, 40.541601873504526, 44.4270040008057, 48.590377890729144, 53.13010235415599, 58.21166938294838, 64.15806723683286, 71.80512766123321, 90.0]\n"
     ]
    }
   ],
   "source": [
    "# Get latitudes and convert from sin(latitude) to latitude degree in radians\n",
    "sin_lats_rads = [math.asin(float(val),) for val in data[76][28:-1].split('  ')]\n",
    "# Convert latitude radians to degrees\n",
    "sin_lats_degs = [(val/(2*math.pi))*360 for val in sin_lats_rads]\n",
    "# Print latitude degrees as a check\n",
    "print(sin_lats_degs)"
   ]
  },
  {
   "cell_type": "code",
   "execution_count": 36,
   "id": "8bbefdb7",
   "metadata": {},
   "outputs": [
    {
     "name": "stdout",
     "output_type": "stream",
     "text": [
      "[-89.5, -88.5, -87.5, -86.5, -85.5, -84.5, -83.5, -82.5, -81.5, -80.5, -79.5, -78.5, -77.5, -76.5, -75.5, -74.5, -73.5, -72.5, -71.5, -70.5, -69.5, -68.5, -67.5, -66.5, -65.5, -64.5, -63.5, -62.5, -61.5, -60.5, -59.5, -58.5, -57.5, -56.5, -55.5, -54.5, -53.5, -52.5, -51.5, -50.5, -49.5, -48.5, -47.5, -46.5, -45.5, -44.5, -43.5, -42.5, -41.5, -40.5, -39.5, -38.5, -37.5, -36.5, -35.5, -34.5, -33.5, -32.5, -31.5, -30.5, -29.5, -28.5, -27.5, -26.5, -25.5, -24.5, -23.5, -22.5, -21.5, -20.5, -19.5, -18.5, -17.5, -16.5, -15.5, -14.5, -13.5, -12.5, -11.5, -10.5, -9.5, -8.5, -7.5, -6.5, -5.5, -4.5, -3.5, -2.5, -1.5, -0.5, 0.5, 1.5, 2.5, 3.5, 4.5, 5.5, 6.5, 7.5, 8.5, 9.5, 10.5, 11.5, 12.5, 13.5, 14.5, 15.5, 16.5, 17.5, 18.5, 19.5, 20.5, 21.5, 22.5, 23.5, 24.5, 25.5, 26.5, 27.5, 28.5, 29.5, 30.5, 31.5, 32.5, 33.5, 34.5, 35.5, 36.5, 37.5, 38.5, 39.5, 40.5, 41.5, 42.5, 43.5, 44.5, 45.5, 46.5, 47.5, 48.5, 49.5, 50.5, 51.5, 52.5, 53.5, 54.5, 55.5, 56.5, 57.5, 58.5, 59.5, 60.5, 61.5, 62.5, 63.5, 64.5, 65.5, 66.5, 67.5, 68.5, 69.5, 70.5, 71.5, 72.5, 73.5, 74.5, 75.5, 76.5, 77.5, 78.5, 79.5, 80.5, 81.5, 82.5, 83.5, 84.5, 85.5, 86.5, 87.5, 88.5, 89.5]\n"
     ]
    }
   ],
   "source": [
    "# Make a list of the target latitudes for interpolation\n",
    "target_lats = [l/10 for l in range(-895,905,10)]\n",
    "# Print length of target latitude list as a check\n",
    "print(target_lats)"
   ]
  },
  {
   "cell_type": "code",
   "execution_count": 37,
   "id": "d2510930",
   "metadata": {},
   "outputs": [
    {
     "name": "stdout",
     "output_type": "stream",
     "text": [
      "1488\n"
     ]
    }
   ],
   "source": [
    "# Get all lines of data from 80th index onwards\n",
    "data_co2 = data[80:-1]\n",
    "# Data is weekly and number of weeks is equal number of lines (length) in data\n",
    "number_weeks = len(data_co2)\n",
    "# Print number of weeks\n",
    "print(number_weeks)"
   ]
  },
  {
   "cell_type": "code",
   "execution_count": 39,
   "id": "b27a2861",
   "metadata": {},
   "outputs": [
    {
     "name": "stdout",
     "output_type": "stream",
     "text": [
      "(180, 1, 1488) 1488\n"
     ]
    }
   ],
   "source": [
    "### LOOP TO INTERPOLATE xCO2 DATA TO DESIRED LATITUDES ###\n",
    "\n",
    "# Initilise empty list to store time values\n",
    "times= []\n",
    "# Initalise empty grid to store xCO2 values\n",
    "weekly_interps = np.full((len(target_lats),1,number_weeks), fill_value=np.nan)\n",
    "\n",
    "# Loop over lines in data\n",
    "for i, line in enumerate(data_co2):\n",
    "    \n",
    "    # Split data in line to get values\n",
    "    row_split = line.strip().replace('       ', ' ').replace('     ', ' ').split(' ')\n",
    "    # Append first value to time list as this is the week measurements were taken\n",
    "    times.append(row_split[0])\n",
    "    \n",
    "    # Get only measurements by indexing every second values (other values are standard deviations)\n",
    "    values = [float(val) for val in row_split[1::2]]\n",
    "    # Linearly interpolate xCO2 values to target latitudes\n",
    "    interp_results = np.interp(target_lats, sin_lats_degs, values).reshape(len(target_lats),1)\n",
    "    # Overwrite empty grid with interpolated values\n",
    "    weekly_interps[:,:,i] = interp_results\n",
    "\n",
    "# Print shape of interpolated values array and length of times list as a check\n",
    "print(weekly_interps.shape, len(times))"
   ]
  },
  {
   "cell_type": "code",
   "execution_count": 40,
   "id": "4917a1fd",
   "metadata": {},
   "outputs": [
    {
     "name": "stdout",
     "output_type": "stream",
     "text": [
      "1488\n"
     ]
    }
   ],
   "source": [
    "### LOOP TO GET WHICH MONTH EACH MEASUREMENT LINE CORRESPONDS TO ###\n",
    "\n",
    "# Get year by indexing first 4 positions of times\n",
    "years = [int(val[0:4]) for val in times]\n",
    "# Get day decimal (decimal value where day falls in year)\n",
    "day_dec = [float(val[4:]) for val in times]\n",
    "# Initialise empty list to store months\n",
    "months = []\n",
    "\n",
    "# Loop over years and track index with i variable\n",
    "for i, year in enumerate(years):\n",
    "    \n",
    "    # Set reference date to 01/01/current-year\n",
    "    reference_date = date(year,1,1)\n",
    "    \n",
    "    # Set muplitpler depending on if year is a leap year or not\n",
    "    if isleap(year):\n",
    "        multiplier = 366\n",
    "    else:\n",
    "        multiplier = 365\n",
    "    \n",
    "    # Get number of days since the first of the refernce year\n",
    "    days_since_first = day_dec[i] * multiplier\n",
    "    # Get date of this day in the year\n",
    "    current_date = reference_date + timedelta(days = days_since_first)\n",
    "    # Append the month of the date to month list\n",
    "    months.append(current_date.month)\n",
    "\n",
    "# Print lenght of month list as a check\n",
    "print(len(months))"
   ]
  },
  {
   "cell_type": "code",
   "execution_count": 41,
   "id": "a43be0a7",
   "metadata": {},
   "outputs": [
    {
     "name": "stdout",
     "output_type": "stream",
     "text": [
      "(180, 1, 372)\n"
     ]
    }
   ],
   "source": [
    "# Initialise an empty array to store monthly averages\n",
    "monthly_avgs = np.full((len(target_lats),1), fill_value=np.nan)\n",
    "# Set start month to first month in month list\n",
    "start_month = months[0]\n",
    "# Set current month to start month\n",
    "current_month = start_month\n",
    "# Initilise empty list to store week averages\n",
    "weeks_to_avg = []\n",
    "\n",
    "# Loop over months list and track index with i\n",
    "for i, m in enumerate(months):\n",
    "    \n",
    "    # If month in loop is equal to current month being investigated\n",
    "    # append that index to weeks_to_avg list\n",
    "    if m == current_month:\n",
    "        weeks_to_avg.append(i)\n",
    "    \n",
    "    # Else if month is not equal to current month (i.e is in next month)\n",
    "    else:\n",
    "        # Get the mean of the current identified weeks\n",
    "        monthly_avg = np.nanmean(weekly_interps[:,:,weeks_to_avg], axis=2)\n",
    "        \n",
    "        monthly_avg = np.flip(monthly_avg, axis=0)\n",
    "        # Append this to the monthly averages array\n",
    "        monthly_avgs = np.dstack((monthly_avgs, monthly_avg))\n",
    "        # Reset the weeks_to_avg list to empty\n",
    "        weeks_to_avg = []\n",
    "        # Append the index of the present month\n",
    "        weeks_to_avg.append(i)\n",
    "        # Change current month to this month\n",
    "        current_month = m\n",
    "\n",
    "    # If in last index of month, loop will not go back to top for averaging\n",
    "    # - this statement catches this situation\n",
    "    # If on last index of months list\n",
    "    if i == (len(months)-1):\n",
    "        # Get mean of identified weeks\n",
    "        monthly_avg = np.nanmean(weekly_interps[:,:,weeks_to_avg], axis=2)\n",
    "        \n",
    "        monthly_avg = np.flip(monthly_avg, axis=0)\n",
    "        # Append this to monthly averages array\n",
    "        monthly_avgs = np.dstack((monthly_avgs, monthly_avg))\n",
    "    \n",
    "# Remove first index of monthly_avgs as this just contains NaN values    \n",
    "monthly_avgs = monthly_avgs[:,:,1:]\n",
    "\n",
    "# Print monthly averages array shapeas a check\n",
    "print(monthly_avgs.shape)"
   ]
  },
  {
   "cell_type": "code",
   "execution_count": 42,
   "id": "6ec28e42",
   "metadata": {},
   "outputs": [
    {
     "name": "stdout",
     "output_type": "stream",
     "text": [
      "360\n",
      "(180, 360, 372)\n"
     ]
    }
   ],
   "source": [
    "# Make a list of the desired longitudes\n",
    "lons = [l/10 for l in range(-1795,1805,10)]\n",
    "# Print length of longitudes as a check\n",
    "print(len(lons))\n",
    "# Repeat monthly average xCO2 across all longtudes\n",
    "grid = np.tile(monthly_avgs, (1,len(lons),1))\n",
    "# Print shape of array as a check\n",
    "print(grid.shape)"
   ]
  },
  {
   "cell_type": "code",
   "execution_count": 43,
   "id": "2285a53d",
   "metadata": {
    "scrolled": false
   },
   "outputs": [
    {
     "name": "stdout",
     "output_type": "stream",
     "text": [
      "(66960, 360)\n"
     ]
    }
   ],
   "source": [
    "# Flatten array for saving to CSV\n",
    "grid_stacked = grid[:,:,0] # Get first index of array\n",
    "# Loop over array indexes in time (3rd dimension)\n",
    "for i in range(1,grid.shape[2]):\n",
    "    grid_slice = grid[:,:,i] # Get slice of data\n",
    "    grid_stacked = np.vstack((grid_stacked, grid_slice)) # Append slice to bottom of data\n",
    "    \n",
    "# Print flat array shape as a check\n",
    "print(grid_stacked.shape)\n",
    "# Save flat array to CSV\n",
    "np.savetxt('xco2_mbl.csv', grid_stacked, delimiter=',')"
   ]
  },
  {
   "cell_type": "markdown",
   "id": "356c2b32",
   "metadata": {},
   "source": [
    "### Adding Climatologies ###"
   ]
  },
  {
   "cell_type": "code",
   "execution_count": 48,
   "id": "ae1b575e",
   "metadata": {},
   "outputs": [
    {
     "name": "stdout",
     "output_type": "stream",
     "text": [
      "(66960, 360)\n",
      "(180, 360, 372)\n"
     ]
    }
   ],
   "source": [
    "# Load flat data\n",
    "data = np.loadtxt('xco2_mbl.csv', delimiter=',')\n",
    "# Print data shape as a check\n",
    "print(data.shape)\n",
    "\n",
    "# Get first 180 rows of data\n",
    "xco2_data = data[0:180,:]\n",
    "# Loop over every 180 rows of data to get monthly data\n",
    "for i in range(180,len(data), 180):\n",
    "    data_slice = data[i:i+180,:] # Get data slice\n",
    "    xco2_data = np.dstack((xco2_data, data_slice)) # Append data to 3D array\n",
    "    \n",
    "# Print array shape as a check\n",
    "print(xco2_data.shape)"
   ]
  },
  {
   "cell_type": "code",
   "execution_count": 49,
   "id": "a29a0588",
   "metadata": {},
   "outputs": [
    {
     "name": "stdout",
     "output_type": "stream",
     "text": [
      "(180, 360, 180)\n",
      "(2160, 360)\n"
     ]
    }
   ],
   "source": [
    "### 2021 climatology added due to data being unavailable ###\n",
    "### CORRECTION: 21/8/2022 - the climatology of xCO2 cannot be used\n",
    "### due to it increasing nature over time. The climotology is maintained\n",
    "### in this code because the files are used later on (with 2021 values excluded)\n",
    "### but note that the section is purely for producing the necassary files and\n",
    "### and the data IS NOT USED. \n",
    "\n",
    "# Indexes of months to average over \n",
    "months_to_avg = 12 * 15\n",
    "# Get data to be used for averaging\n",
    "data_to_avg = xco2_data[:,:,-months_to_avg:]\n",
    "# Print shape of data as a check\n",
    "print(data_to_avg.shape)\n",
    "\n",
    "# Initialise an empty array to begin 3D of array climatology values\n",
    "monthly_climatology = np.full((180,360), fill_value=np.nan)\n",
    "\n",
    "# Loop over month indexes (0=Jan, 11=Dec)\n",
    "for m in range(0,12):\n",
    "    # Get all values of a given month by indexing every 12th array slice\n",
    "    month_indices = [i for i in range(m,data_to_avg.shape[2],12)]\n",
    "    \n",
    "    # If performing Jan climatology (first iteration of loop)\n",
    "    if m == 0:\n",
    "        # Get all January data to average\n",
    "        individual_month = data_to_avg[:,:,month_indices]\n",
    "        # Get mean of January values\n",
    "        month_climatology = np.nanmean(individual_month, axis=2)\n",
    "        # Append January climatoloy to 3D array\n",
    "        monthly_climatology = month_climatology\n",
    "    # If looking at any other month\n",
    "    else:\n",
    "        # Get all month data to average\n",
    "        individual_month = data_to_avg[:,:,month_indices]\n",
    "        # Get mean of month values\n",
    "        month_climatology = np.nanmean(individual_month, axis=2)\n",
    "        # Append month climatology to 3D array\n",
    "        monthly_climatology = np.concatenate((monthly_climatology, month_climatology), axis=0)\n",
    "    \n",
    "# Print final climatology array shape as a check\n",
    "print(monthly_climatology.shape)"
   ]
  },
  {
   "cell_type": "code",
   "execution_count": 50,
   "id": "457df770",
   "metadata": {},
   "outputs": [
    {
     "data": {
      "image/png": "[encoded data removed]",
      "text/plain": [
       "<Figure size 1440x720 with 2 Axes>"
      ]
     },
     "metadata": {
      "needs_background": "light"
     },
     "output_type": "display_data"
    }
   ],
   "source": [
    "# Plot selection of data as a check\n",
    "plt.figure(figsize=(20,10))\n",
    "sns.heatmap(monthly_climatology[:,:])\n",
    "plt.show()"
   ]
  },
  {
   "cell_type": "code",
   "execution_count": 51,
   "id": "183afed6",
   "metadata": {},
   "outputs": [
    {
     "name": "stdout",
     "output_type": "stream",
     "text": [
      "(69120, 360)\n"
     ]
    }
   ],
   "source": [
    "# Append climatology onto end of original flattened data set\n",
    "xco2_full = np.concatenate((data, monthly_climatology), axis=0)\n",
    "# Get shape of complete data set as a check\n",
    "print(xco2_full.shape)\n",
    "# Save data to CSV file\n",
    "np.savetxt('xco2_wClimatology.csv', xco2_full, delimiter=',')"
   ]
  },
  {
   "cell_type": "code",
   "execution_count": null,
   "id": "4dfc84ce",
   "metadata": {},
   "outputs": [],
   "source": []
  },
  {
   "cell_type": "code",
   "execution_count": null,
   "id": "0123802b",
   "metadata": {},
   "outputs": [],
   "source": []
  }
 ],
 "metadata": {
  "kernelspec": {
   "display_name": "Python 3 (ipykernel)",
   "language": "python",
   "name": "python3"
  },
  "language_info": {
   "codemirror_mode": {
    "name": "ipython",
    "version": 3
   },
   "file_extension": ".py",
   "mimetype": "text/x-python",
   "name": "python",
   "nbconvert_exporter": "python",
   "pygments_lexer": "ipython3",
   "version": "3.7.13"
  }
 },
 "nbformat": 4,
 "nbformat_minor": 5
}
