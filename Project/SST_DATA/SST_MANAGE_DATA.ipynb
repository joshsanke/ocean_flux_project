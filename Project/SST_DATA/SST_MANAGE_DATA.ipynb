{
 "cells": [
  {
   "cell_type": "code",
   "execution_count": 1,
   "id": "d937c716",
   "metadata": {},
   "outputs": [],
   "source": [
    "# Import relevant packages\n",
    "import os\n",
    "import numpy as np\n",
    "import pandas as pd\n",
    "import matplotlib.pyplot as plt\n",
    "from matplotlib.colors import LogNorm\n",
    "import seaborn as sns\n",
    "from netCDF4 import Dataset\n",
    "from datetime import date, timedelta\n",
    "import time"
   ]
  },
  {
   "cell_type": "code",
   "execution_count": 26,
   "id": "ecba6b9a",
   "metadata": {},
   "outputs": [],
   "source": [
    "### Due to file size and number of files (200GB total)\n",
    "### these data sets were stored on a flash drive for ease of accessibility\n",
    "\n",
    "# Access data on flash drive\n",
    "os.chdir('### Your Directory to daily SST data up to years ### ')\n",
    "# Get only folders that store data\n",
    "folders = [f for f in os.listdir() if not f.startswith('.')]\n",
    "# Print folder names as check\n",
    "print(folders)"
   ]
  },
  {
   "cell_type": "code",
   "execution_count": null,
   "id": "d1985e50",
   "metadata": {},
   "outputs": [],
   "source": [
    "# Path to single data files (01/01/1990)\n",
    "file = '### Your Directory to a single daily SST data (used was 1990-01-01)###'\n",
    "# Read data\n",
    "data = Dataset(file)\n",
    "# Print data set variable keys\n",
    "print(data.variables.keys())"
   ]
  },
  {
   "cell_type": "code",
   "execution_count": 6,
   "id": "5f9fd4db",
   "metadata": {},
   "outputs": [
    {
     "data": {
      "text/plain": [
       "<class 'netCDF4._netCDF4.Variable'>\n",
       "int32 time(time)\n",
       "    long_name: reference time of sst field\n",
       "    standard_name: time\n",
       "    axis: T\n",
       "    units: seconds since 1981-01-01 00:00:00\n",
       "    calendar: gregorian\n",
       "    bounds: time_bnds\n",
       "    comment: \n",
       "unlimited dimensions: time\n",
       "current shape = (1,)\n",
       "filling on, default _FillValue of -2147483647 used"
      ]
     },
     "execution_count": 6,
     "metadata": {},
     "output_type": "execute_result"
    }
   ],
   "source": [
    "# Print time variable metadata\n",
    "print(data.variables['time'])"
   ]
  },
  {
   "cell_type": "code",
   "execution_count": 7,
   "id": "8bd3bd41",
   "metadata": {},
   "outputs": [],
   "source": [
    "# Get data latiudes (in reverse order)\n",
    "lats = np.ma.getdata(data.variables['lat'][:])[::-1]\n",
    "# Get data longitudes\n",
    "lons = np.ma.getdata(data.variables['lon'][:])"
   ]
  },
  {
   "cell_type": "code",
   "execution_count": 8,
   "id": "ee814e8a",
   "metadata": {},
   "outputs": [
    {
     "data": {
      "text/plain": [
       "array([-179.975, -179.925, -179.875, ...,  179.875,  179.925,  179.975],\n",
       "      dtype=float32)"
      ]
     },
     "execution_count": 8,
     "metadata": {},
     "output_type": "execute_result"
    }
   ],
   "source": [
    "# Print latitudes\n",
    "print(lats)\n",
    "# Print longtudes\n",
    "print(lons)"
   ]
  },
  {
   "cell_type": "code",
   "execution_count": null,
   "id": "20eb08a7",
   "metadata": {},
   "outputs": [],
   "source": [
    "### REDUCING RESOLUTION OF DATA OVER TIME AND SPACE ###\n",
    "\n",
    "# Loop over folders (years and months)\n",
    "for i,folder in enumerate(folders):\n",
    "    \n",
    "    # Print loop index and folder name\n",
    "    print(f'{i}:{folder} -', end=' ' )\n",
    "    \n",
    "    # Access flash drive folder for desired year\n",
    "    os.chdir(f'### Your Directory to daily SST data ###/{folder}')\n",
    "    # Make list of file names that contain the data\n",
    "    files = [F for F in os.listdir() if not F.startswith('.')]\n",
    "    # Print length of file list - should correspond to number of days in the month\n",
    "    print(f'{len(files)}', end=' ')\n",
    "    \n",
    "    # Loop over file names in list\n",
    "    for j,file in enumerate(files):\n",
    "        \n",
    "        # Print index of loop to display each day of data being accessed\n",
    "        print(f'{j}', end=',')\n",
    "        # Read data\n",
    "        data = Dataset(file)\n",
    "        # Get sea surface temperature values\n",
    "        sst_vals = np.ma.getdata(data.variables['analysed_sst'][:])\n",
    "        # Make mask values equal to NaN\n",
    "        sst_vals[sst_vals < -32700] = np.nan\n",
    "        # Flip data to correct orientaion and reduce to 2-dimensional array\n",
    "        sst_vals = np.flip(np.squeeze(sst_vals),axis=0)\n",
    "\n",
    "        # If on first iteration of loop (first file) then initialise 3D array for storing data\n",
    "        if j == 0:\n",
    "            sst_single_month_data = sst_vals\n",
    "        # Else append data to 3D array\n",
    "        else:\n",
    "            sst_single_month_data = np.dstack((sst_single_month_data, sst_vals))\n",
    "            \n",
    "    # Get montly sea surface temperature average over month\n",
    "    month_sst_avg = np.nanmean(sst_single_month_data, axis=2)\n",
    "    \n",
    "    # Put month data into Dataframe indexed by coordinate position\n",
    "    one_month_data = pd.DataFrame(data=month_sst_avg, index=lats, columns=lons)\n",
    "\n",
    "    # Initialise a 1x1 degree grid of zeros\n",
    "    one_deg_grid = np.zeros((len(range(90,-90,-1)),len(range(-180,180,1))))\n",
    "\n",
    "    # Loop over latitudes - increments of 1-degree\n",
    "    for lat_ind,latitude in enumerate(range(90,-90,-1)):\n",
    "        # Loop over longitudes - increments of 1-degree\n",
    "        for lon_ind,longitude in enumerate(range(-180,180,1)):\n",
    "\n",
    "            # Get 1x1 degree square of values\n",
    "            # If/elif statements catch edge values to ensure all data is captured\n",
    "            if (longitude == 179) and (latitude == -89):\n",
    "                one_deg_square = np.asarray(one_month_data.loc[(one_month_data.index <= latitude) & (one_month_data.index >= latitude-1),(one_month_data.columns >= longitude) & (one_month_data.columns <= longitude+1)])\n",
    "\n",
    "            elif (longitude == 179):\n",
    "                one_deg_square = np.asarray(one_month_data.loc[(one_month_data.index <= latitude) & (one_month_data.index > latitude-1),(one_month_data.columns >= longitude) & (one_month_data.columns <= longitude+1)])\n",
    "\n",
    "            elif (latitude == -89):\n",
    "                one_deg_square = np.asarray(one_month_data.loc[(one_month_data.index <= latitude) & (one_month_data.index >= latitude-1),(one_month_data.columns >= longitude) & (one_month_data.columns < longitude+1)])\n",
    "\n",
    "            else:\n",
    "                one_deg_square = np.asarray(one_month_data.loc[(one_month_data.index <= latitude) & (one_month_data.index > latitude-1),(one_month_data.columns >= longitude) & (one_month_data.columns < longitude+1)])\n",
    "\n",
    "            # If all values in square are NaN, set the square mean and NaN\n",
    "            if np.isnan(one_deg_square).all() == True:\n",
    "                one_deg_mean = np.nan\n",
    "            # Else set to the mean of the values in the square (excluding NaNs)\n",
    "            else:\n",
    "                one_deg_mean = np.nanmean(one_deg_square)\n",
    "\n",
    "            # Over write zeros grid with SST data at current index\n",
    "            one_deg_grid[lat_ind, lon_ind] = one_deg_mean\n",
    "    \n",
    "    # Change directory to folder for storing monthy averages\n",
    "    os.chdir('### Your Directory to store monthly means ###')\n",
    "    # Save monthly averages to this folder\n",
    "    np.savetxt(f'{folder}_LR.csv',one_deg_grid, delimiter=',')\n",
    "    \n",
    "    # If on first iteration of outer loop then initalise 3D array to store averaged SST data\n",
    "    if i == 0:\n",
    "        month_avg_stack = one_deg_grid\n",
    "    # Else append SST average to 3D array\n",
    "    else:\n",
    "        month_avg_stack = np.dstack((month_avg_stack,one_deg_grid))\n",
    "    \n",
    "    # Print current shape of 3D array as a check\n",
    "    print(f'{month_avg_stack.shape}')\n",
    "\n",
    "    \n",
    "# Print final complete message with 3D array shape as a check\n",
    "print(f'Complete: {month_avg_stack.shape}')"
   ]
  },
  {
   "cell_type": "code",
   "execution_count": null,
   "id": "dc39b842",
   "metadata": {},
   "outputs": [],
   "source": [
    "# Loop to flatten array\n",
    "for d in range(0, month_avg_stack.shape[2]):\n",
    "    if d == 0:\n",
    "        sst_LR_flat = month_avg_stack[:,:,d]\n",
    "    else:\n",
    "        sst_LR_flat = np.concatenate((sst_LR_flat, month_avg_stack[:,:,d]), axis=0)\n",
    "        \n",
    "# Print shape of flat data as a check\n",
    "print(sst_LR_flat.shape)        \n",
    "# Save flat data\n",
    "np.savetxt('sst_LR_flat_NEW.csv',sst_LR_flat, delimiter=',')"
   ]
  },
  {
   "cell_type": "code",
   "execution_count": null,
   "id": "63bb86e0",
   "metadata": {},
   "outputs": [],
   "source": []
  },
  {
   "cell_type": "code",
   "execution_count": null,
   "id": "41743e24",
   "metadata": {},
   "outputs": [],
   "source": []
  }
 ],
 "metadata": {
  "kernelspec": {
   "display_name": "Python 3 (ipykernel)",
   "language": "python",
   "name": "python3"
  },
  "language_info": {
   "codemirror_mode": {
    "name": "ipython",
    "version": 3
   },
   "file_extension": ".py",
   "mimetype": "text/x-python",
   "name": "python",
   "nbconvert_exporter": "python",
   "pygments_lexer": "ipython3",
   "version": "3.7.13"
  }
 },
 "nbformat": 4,
 "nbformat_minor": 5
}
